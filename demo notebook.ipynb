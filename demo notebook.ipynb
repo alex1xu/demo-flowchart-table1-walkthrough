{
 "cells": [
  {
   "cell_type": "markdown",
   "id": "c8002475",
   "metadata": {},
   "source": [
    "# loading data"
   ]
  },
  {
   "cell_type": "code",
   "execution_count": 1,
   "id": "3c664d8a",
   "metadata": {},
   "outputs": [],
   "source": [
    "# import our libraries\n",
    "\n",
    "#for manipulating our tables\n",
    "import pandas as pd\n",
    "\n",
    "#making plots\n",
    "import matplotlib.pyplot as plt\n",
    "\n",
    "#basic stats, t-tests\n",
    "from scipy.stats import mannwhitneyu\n",
    "\n",
    "from scipy.stats import fisher_exact\n",
    "\n",
    "#math\n",
    "import numpy as np"
   ]
  },
  {
   "cell_type": "code",
   "execution_count": 2,
   "id": "e19ffd2a",
   "metadata": {},
   "outputs": [],
   "source": [
    "#load data that we extracted from SQL\n",
    "covid_visits=pd.read_csv('../updated data/new_covid_visits.csv')\n",
    "covid_all=pd.read_csv('../updated data/new_covid_all.csv')"
   ]
  },
  {
   "cell_type": "code",
   "execution_count": 3,
   "id": "e37fbd4f",
   "metadata": {},
   "outputs": [],
   "source": [
    "#convert datetime fields into datetime format\n",
    "covid_all['MEASUREMENT_DATETIME']=pd.to_datetime(covid_all['MEASUREMENT_DATETIME'])\n",
    "covid_visits['VISIT_START_DATETIME']=pd.to_datetime(covid_visits['VISIT_START_DATETIME'])\n",
    "covid_visits['VISIT_END_DATETIME']=pd.to_datetime(covid_visits['VISIT_END_DATETIME'])"
   ]
  },
  {
   "cell_type": "code",
   "execution_count": 4,
   "id": "96089525",
   "metadata": {
    "scrolled": true
   },
   "outputs": [
    {
     "data": {
      "text/html": [
       "<div>\n",
       "<style scoped>\n",
       "    .dataframe tbody tr th:only-of-type {\n",
       "        vertical-align: middle;\n",
       "    }\n",
       "\n",
       "    .dataframe tbody tr th {\n",
       "        vertical-align: top;\n",
       "    }\n",
       "\n",
       "    .dataframe thead th {\n",
       "        text-align: right;\n",
       "    }\n",
       "</style>\n",
       "<table border=\"1\" class=\"dataframe\">\n",
       "  <thead>\n",
       "    <tr style=\"text-align: right;\">\n",
       "      <th></th>\n",
       "      <th>PERSON_ID</th>\n",
       "      <th>VISIT_OCCURRENCE_ID</th>\n",
       "      <th>VISIT_CONCEPT_ID</th>\n",
       "      <th>VISIT_START_DATETIME</th>\n",
       "      <th>VISIT_END_DATETIME</th>\n",
       "    </tr>\n",
       "  </thead>\n",
       "  <tbody>\n",
       "    <tr>\n",
       "      <th>0</th>\n",
       "      <td>7703637957</td>\n",
       "      <td>100425603274</td>\n",
       "      <td>262</td>\n",
       "      <td>2020-04-10 20:13:00</td>\n",
       "      <td>2020-04-28 00:43:00</td>\n",
       "    </tr>\n",
       "    <tr>\n",
       "      <th>1</th>\n",
       "      <td>7703637957</td>\n",
       "      <td>100425787352</td>\n",
       "      <td>9202</td>\n",
       "      <td>2020-04-18 00:00:00</td>\n",
       "      <td>2020-04-18 00:00:00</td>\n",
       "    </tr>\n",
       "    <tr>\n",
       "      <th>2</th>\n",
       "      <td>7703637957</td>\n",
       "      <td>100426131739</td>\n",
       "      <td>42898160</td>\n",
       "      <td>2020-05-01 00:00:00</td>\n",
       "      <td>2020-05-01 00:00:00</td>\n",
       "    </tr>\n",
       "    <tr>\n",
       "      <th>3</th>\n",
       "      <td>7703637957</td>\n",
       "      <td>100428404927</td>\n",
       "      <td>9202</td>\n",
       "      <td>2020-07-05 00:00:00</td>\n",
       "      <td>2020-07-05 00:00:00</td>\n",
       "    </tr>\n",
       "    <tr>\n",
       "      <th>4</th>\n",
       "      <td>7703637957</td>\n",
       "      <td>100425604946</td>\n",
       "      <td>9202</td>\n",
       "      <td>2020-04-11 05:41:26</td>\n",
       "      <td>2020-04-11 05:41:26</td>\n",
       "    </tr>\n",
       "    <tr>\n",
       "      <th>...</th>\n",
       "      <td>...</td>\n",
       "      <td>...</td>\n",
       "      <td>...</td>\n",
       "      <td>...</td>\n",
       "      <td>...</td>\n",
       "    </tr>\n",
       "    <tr>\n",
       "      <th>3966662</th>\n",
       "      <td>9005891424</td>\n",
       "      <td>185027023368</td>\n",
       "      <td>42898160</td>\n",
       "      <td>2022-06-26 00:00:00</td>\n",
       "      <td>2022-06-26 00:00:00</td>\n",
       "    </tr>\n",
       "    <tr>\n",
       "      <th>3966663</th>\n",
       "      <td>9005891495</td>\n",
       "      <td>185027026194</td>\n",
       "      <td>9203</td>\n",
       "      <td>2022-06-26 18:48:00</td>\n",
       "      <td>2022-06-27 00:03:00</td>\n",
       "    </tr>\n",
       "    <tr>\n",
       "      <th>3966664</th>\n",
       "      <td>9005891495</td>\n",
       "      <td>185027028282</td>\n",
       "      <td>42898160</td>\n",
       "      <td>2022-06-26 00:00:00</td>\n",
       "      <td>2022-06-26 00:00:00</td>\n",
       "    </tr>\n",
       "    <tr>\n",
       "      <th>3966665</th>\n",
       "      <td>9005891674</td>\n",
       "      <td>185027050069</td>\n",
       "      <td>9203</td>\n",
       "      <td>2022-06-27 10:36:00</td>\n",
       "      <td>2022-06-27 14:20:00</td>\n",
       "    </tr>\n",
       "    <tr>\n",
       "      <th>3966666</th>\n",
       "      <td>9005892036</td>\n",
       "      <td>185027094494</td>\n",
       "      <td>9203</td>\n",
       "      <td>2022-06-27 16:00:00</td>\n",
       "      <td>2022-06-27 20:35:00</td>\n",
       "    </tr>\n",
       "  </tbody>\n",
       "</table>\n",
       "<p>3966667 rows × 5 columns</p>\n",
       "</div>"
      ],
      "text/plain": [
       "          PERSON_ID  VISIT_OCCURRENCE_ID  VISIT_CONCEPT_ID  \\\n",
       "0        7703637957         100425603274               262   \n",
       "1        7703637957         100425787352              9202   \n",
       "2        7703637957         100426131739          42898160   \n",
       "3        7703637957         100428404927              9202   \n",
       "4        7703637957         100425604946              9202   \n",
       "...             ...                  ...               ...   \n",
       "3966662  9005891424         185027023368          42898160   \n",
       "3966663  9005891495         185027026194              9203   \n",
       "3966664  9005891495         185027028282          42898160   \n",
       "3966665  9005891674         185027050069              9203   \n",
       "3966666  9005892036         185027094494              9203   \n",
       "\n",
       "        VISIT_START_DATETIME  VISIT_END_DATETIME  \n",
       "0        2020-04-10 20:13:00 2020-04-28 00:43:00  \n",
       "1        2020-04-18 00:00:00 2020-04-18 00:00:00  \n",
       "2        2020-05-01 00:00:00 2020-05-01 00:00:00  \n",
       "3        2020-07-05 00:00:00 2020-07-05 00:00:00  \n",
       "4        2020-04-11 05:41:26 2020-04-11 05:41:26  \n",
       "...                      ...                 ...  \n",
       "3966662  2022-06-26 00:00:00 2022-06-26 00:00:00  \n",
       "3966663  2022-06-26 18:48:00 2022-06-27 00:03:00  \n",
       "3966664  2022-06-26 00:00:00 2022-06-26 00:00:00  \n",
       "3966665  2022-06-27 10:36:00 2022-06-27 14:20:00  \n",
       "3966666  2022-06-27 16:00:00 2022-06-27 20:35:00  \n",
       "\n",
       "[3966667 rows x 5 columns]"
      ]
     },
     "execution_count": 4,
     "metadata": {},
     "output_type": "execute_result"
    }
   ],
   "source": [
    "covid_visits"
   ]
  },
  {
   "cell_type": "code",
   "execution_count": 5,
   "id": "46fe8bd6",
   "metadata": {
    "scrolled": true
   },
   "outputs": [
    {
     "data": {
      "text/html": [
       "<div>\n",
       "<style scoped>\n",
       "    .dataframe tbody tr th:only-of-type {\n",
       "        vertical-align: middle;\n",
       "    }\n",
       "\n",
       "    .dataframe tbody tr th {\n",
       "        vertical-align: top;\n",
       "    }\n",
       "\n",
       "    .dataframe thead th {\n",
       "        text-align: right;\n",
       "    }\n",
       "</style>\n",
       "<table border=\"1\" class=\"dataframe\">\n",
       "  <thead>\n",
       "    <tr style=\"text-align: right;\">\n",
       "      <th></th>\n",
       "      <th>PERSON_ID</th>\n",
       "      <th>VISIT_OCCURRENCE_ID</th>\n",
       "      <th>MEASUREMENT_DATETIME</th>\n",
       "    </tr>\n",
       "  </thead>\n",
       "  <tbody>\n",
       "    <tr>\n",
       "      <th>0</th>\n",
       "      <td>9002523489</td>\n",
       "      <td>100436778670</td>\n",
       "      <td>2020-12-08 19:14:00</td>\n",
       "    </tr>\n",
       "    <tr>\n",
       "      <th>1</th>\n",
       "      <td>9001736039</td>\n",
       "      <td>100437707466</td>\n",
       "      <td>2020-12-31 10:20:00</td>\n",
       "    </tr>\n",
       "    <tr>\n",
       "      <th>2</th>\n",
       "      <td>7704501193</td>\n",
       "      <td>100439809624</td>\n",
       "      <td>2021-02-16 09:21:00</td>\n",
       "    </tr>\n",
       "    <tr>\n",
       "      <th>3</th>\n",
       "      <td>9000972138</td>\n",
       "      <td>100438038814</td>\n",
       "      <td>2021-01-08 00:16:00</td>\n",
       "    </tr>\n",
       "    <tr>\n",
       "      <th>4</th>\n",
       "      <td>9000849780</td>\n",
       "      <td>100439431946</td>\n",
       "      <td>2021-02-06 14:58:00</td>\n",
       "    </tr>\n",
       "    <tr>\n",
       "      <th>...</th>\n",
       "      <td>...</td>\n",
       "      <td>...</td>\n",
       "      <td>...</td>\n",
       "    </tr>\n",
       "    <tr>\n",
       "      <th>43953</th>\n",
       "      <td>9000820879</td>\n",
       "      <td>185022455565</td>\n",
       "      <td>2022-04-11 13:35:00</td>\n",
       "    </tr>\n",
       "    <tr>\n",
       "      <th>43954</th>\n",
       "      <td>9001110360</td>\n",
       "      <td>185025464989</td>\n",
       "      <td>2022-06-01 13:17:00</td>\n",
       "    </tr>\n",
       "    <tr>\n",
       "      <th>43955</th>\n",
       "      <td>9001622939</td>\n",
       "      <td>185022985557</td>\n",
       "      <td>2022-04-20 06:49:00</td>\n",
       "    </tr>\n",
       "    <tr>\n",
       "      <th>43956</th>\n",
       "      <td>9000565738</td>\n",
       "      <td>185025217042</td>\n",
       "      <td>2022-05-31 09:36:00</td>\n",
       "    </tr>\n",
       "    <tr>\n",
       "      <th>43957</th>\n",
       "      <td>9005770283</td>\n",
       "      <td>185025863933</td>\n",
       "      <td>2022-06-08 15:59:00</td>\n",
       "    </tr>\n",
       "  </tbody>\n",
       "</table>\n",
       "<p>43958 rows × 3 columns</p>\n",
       "</div>"
      ],
      "text/plain": [
       "        PERSON_ID  VISIT_OCCURRENCE_ID MEASUREMENT_DATETIME\n",
       "0      9002523489         100436778670  2020-12-08 19:14:00\n",
       "1      9001736039         100437707466  2020-12-31 10:20:00\n",
       "2      7704501193         100439809624  2021-02-16 09:21:00\n",
       "3      9000972138         100438038814  2021-01-08 00:16:00\n",
       "4      9000849780         100439431946  2021-02-06 14:58:00\n",
       "...           ...                  ...                  ...\n",
       "43953  9000820879         185022455565  2022-04-11 13:35:00\n",
       "43954  9001110360         185025464989  2022-06-01 13:17:00\n",
       "43955  9001622939         185022985557  2022-04-20 06:49:00\n",
       "43956  9000565738         185025217042  2022-05-31 09:36:00\n",
       "43957  9005770283         185025863933  2022-06-08 15:59:00\n",
       "\n",
       "[43958 rows x 3 columns]"
      ]
     },
     "execution_count": 5,
     "metadata": {},
     "output_type": "execute_result"
    }
   ],
   "source": [
    "covid_all"
   ]
  },
  {
   "cell_type": "markdown",
   "id": "40e877ea",
   "metadata": {},
   "source": [
    "# flowchart"
   ]
  },
  {
   "cell_type": "code",
   "execution_count": 6,
   "id": "90c57efb",
   "metadata": {},
   "outputs": [],
   "source": [
    "covid_all=covid_all.sort_values('MEASUREMENT_DATETIME',ascending=False).drop_duplicates('PERSON_ID',keep='last')"
   ]
  },
  {
   "cell_type": "markdown",
   "id": "324f1f42",
   "metadata": {},
   "source": [
    "## Total covid sample size"
   ]
  },
  {
   "cell_type": "code",
   "execution_count": 7,
   "id": "0946d750",
   "metadata": {},
   "outputs": [
    {
     "data": {
      "text/plain": [
       "38158"
      ]
     },
     "execution_count": 7,
     "metadata": {},
     "output_type": "execute_result"
    }
   ],
   "source": [
    "#nunique tells us how many distinct items are in a series\n",
    "covid_visits['PERSON_ID'].nunique()"
   ]
  },
  {
   "cell_type": "code",
   "execution_count": 8,
   "id": "247062bf",
   "metadata": {},
   "outputs": [],
   "source": [
    "#pd.merge equivalent of a SQL join, it returns a new table\n",
    "covid_combined=pd.merge(covid_all,covid_visits,on=['PERSON_ID','VISIT_OCCURRENCE_ID'],how='inner').drop_duplicates(['PERSON_ID'])"
   ]
  },
  {
   "cell_type": "code",
   "execution_count": 9,
   "id": "2e88395d",
   "metadata": {
    "scrolled": true
   },
   "outputs": [
    {
     "data": {
      "text/html": [
       "<div>\n",
       "<style scoped>\n",
       "    .dataframe tbody tr th:only-of-type {\n",
       "        vertical-align: middle;\n",
       "    }\n",
       "\n",
       "    .dataframe tbody tr th {\n",
       "        vertical-align: top;\n",
       "    }\n",
       "\n",
       "    .dataframe thead th {\n",
       "        text-align: right;\n",
       "    }\n",
       "</style>\n",
       "<table border=\"1\" class=\"dataframe\">\n",
       "  <thead>\n",
       "    <tr style=\"text-align: right;\">\n",
       "      <th></th>\n",
       "      <th>PERSON_ID</th>\n",
       "      <th>VISIT_OCCURRENCE_ID</th>\n",
       "      <th>MEASUREMENT_DATETIME</th>\n",
       "      <th>VISIT_CONCEPT_ID</th>\n",
       "      <th>VISIT_START_DATETIME</th>\n",
       "      <th>VISIT_END_DATETIME</th>\n",
       "    </tr>\n",
       "  </thead>\n",
       "  <tbody>\n",
       "    <tr>\n",
       "      <th>0</th>\n",
       "      <td>9002083220</td>\n",
       "      <td>185027108727</td>\n",
       "      <td>2022-06-27 21:57:00</td>\n",
       "      <td>9203</td>\n",
       "      <td>2022-06-27 22:10:00</td>\n",
       "      <td>2022-06-28 06:42:00</td>\n",
       "    </tr>\n",
       "    <tr>\n",
       "      <th>1</th>\n",
       "      <td>9002881381</td>\n",
       "      <td>185027108199</td>\n",
       "      <td>2022-06-27 21:45:00</td>\n",
       "      <td>9203</td>\n",
       "      <td>2022-06-27 20:59:00</td>\n",
       "      <td>2022-06-27 22:58:00</td>\n",
       "    </tr>\n",
       "    <tr>\n",
       "      <th>2</th>\n",
       "      <td>9003213255</td>\n",
       "      <td>185027107041</td>\n",
       "      <td>2022-06-27 20:48:00</td>\n",
       "      <td>9203</td>\n",
       "      <td>2022-06-27 19:41:00</td>\n",
       "      <td>2022-06-28 01:59:00</td>\n",
       "    </tr>\n",
       "    <tr>\n",
       "      <th>3</th>\n",
       "      <td>9000038307</td>\n",
       "      <td>185027076015</td>\n",
       "      <td>2022-06-27 20:25:00</td>\n",
       "      <td>9203</td>\n",
       "      <td>2022-06-27 14:11:00</td>\n",
       "      <td>2022-06-28 03:41:00</td>\n",
       "    </tr>\n",
       "    <tr>\n",
       "      <th>4</th>\n",
       "      <td>9000928761</td>\n",
       "      <td>185027107508</td>\n",
       "      <td>2022-06-27 20:17:00</td>\n",
       "      <td>9203</td>\n",
       "      <td>2022-06-27 20:22:00</td>\n",
       "      <td>2022-06-27 23:50:00</td>\n",
       "    </tr>\n",
       "    <tr>\n",
       "      <th>...</th>\n",
       "      <td>...</td>\n",
       "      <td>...</td>\n",
       "      <td>...</td>\n",
       "      <td>...</td>\n",
       "      <td>...</td>\n",
       "      <td>...</td>\n",
       "    </tr>\n",
       "    <tr>\n",
       "      <th>38145</th>\n",
       "      <td>9002395046</td>\n",
       "      <td>100424694916</td>\n",
       "      <td>2020-03-13 14:38:00</td>\n",
       "      <td>262</td>\n",
       "      <td>2020-03-13 13:41:00</td>\n",
       "      <td>2020-03-15 00:45:00</td>\n",
       "    </tr>\n",
       "    <tr>\n",
       "      <th>38146</th>\n",
       "      <td>9002056532</td>\n",
       "      <td>100424699963</td>\n",
       "      <td>2020-03-13 14:32:00</td>\n",
       "      <td>42898160</td>\n",
       "      <td>2020-03-13 00:00:00</td>\n",
       "      <td>2020-03-13 00:00:00</td>\n",
       "    </tr>\n",
       "    <tr>\n",
       "      <th>38147</th>\n",
       "      <td>9001633234</td>\n",
       "      <td>100424550518</td>\n",
       "      <td>2020-03-13 12:20:00</td>\n",
       "      <td>262</td>\n",
       "      <td>2020-03-11 11:03:00</td>\n",
       "      <td>2020-04-22 08:14:00</td>\n",
       "    </tr>\n",
       "    <tr>\n",
       "      <th>38148</th>\n",
       "      <td>9000077379</td>\n",
       "      <td>100424663743</td>\n",
       "      <td>2020-03-13 11:35:00</td>\n",
       "      <td>262</td>\n",
       "      <td>2020-03-13 08:19:00</td>\n",
       "      <td>2020-03-14 06:00:00</td>\n",
       "    </tr>\n",
       "    <tr>\n",
       "      <th>38149</th>\n",
       "      <td>9001014866</td>\n",
       "      <td>100424595282</td>\n",
       "      <td>2020-03-11 19:40:00</td>\n",
       "      <td>581477</td>\n",
       "      <td>2020-03-11 18:43:15</td>\n",
       "      <td>2020-03-11 18:43:15</td>\n",
       "    </tr>\n",
       "  </tbody>\n",
       "</table>\n",
       "<p>38150 rows × 6 columns</p>\n",
       "</div>"
      ],
      "text/plain": [
       "        PERSON_ID  VISIT_OCCURRENCE_ID MEASUREMENT_DATETIME  VISIT_CONCEPT_ID  \\\n",
       "0      9002083220         185027108727  2022-06-27 21:57:00              9203   \n",
       "1      9002881381         185027108199  2022-06-27 21:45:00              9203   \n",
       "2      9003213255         185027107041  2022-06-27 20:48:00              9203   \n",
       "3      9000038307         185027076015  2022-06-27 20:25:00              9203   \n",
       "4      9000928761         185027107508  2022-06-27 20:17:00              9203   \n",
       "...           ...                  ...                  ...               ...   \n",
       "38145  9002395046         100424694916  2020-03-13 14:38:00               262   \n",
       "38146  9002056532         100424699963  2020-03-13 14:32:00          42898160   \n",
       "38147  9001633234         100424550518  2020-03-13 12:20:00               262   \n",
       "38148  9000077379         100424663743  2020-03-13 11:35:00               262   \n",
       "38149  9001014866         100424595282  2020-03-11 19:40:00            581477   \n",
       "\n",
       "      VISIT_START_DATETIME  VISIT_END_DATETIME  \n",
       "0      2022-06-27 22:10:00 2022-06-28 06:42:00  \n",
       "1      2022-06-27 20:59:00 2022-06-27 22:58:00  \n",
       "2      2022-06-27 19:41:00 2022-06-28 01:59:00  \n",
       "3      2022-06-27 14:11:00 2022-06-28 03:41:00  \n",
       "4      2022-06-27 20:22:00 2022-06-27 23:50:00  \n",
       "...                    ...                 ...  \n",
       "38145  2020-03-13 13:41:00 2020-03-15 00:45:00  \n",
       "38146  2020-03-13 00:00:00 2020-03-13 00:00:00  \n",
       "38147  2020-03-11 11:03:00 2020-04-22 08:14:00  \n",
       "38148  2020-03-13 08:19:00 2020-03-14 06:00:00  \n",
       "38149  2020-03-11 18:43:15 2020-03-11 18:43:15  \n",
       "\n",
       "[38150 rows x 6 columns]"
      ]
     },
     "execution_count": 9,
     "metadata": {},
     "output_type": "execute_result"
    }
   ],
   "source": [
    "covid_combined"
   ]
  },
  {
   "cell_type": "code",
   "execution_count": 10,
   "id": "ed72d6ab",
   "metadata": {
    "scrolled": false
   },
   "outputs": [
    {
     "data": {
      "image/png": "[encoded data removed]",
      "text/plain": [
       "<Figure size 1332x720 with 1 Axes>"
      ]
     },
     "metadata": {
      "needs_background": "light"
     },
     "output_type": "display_data"
    }
   ],
   "source": [
    "#graph of our covid data by measurement date\n",
    "covid_combined[['MEASUREMENT_DATETIME']].groupby(covid_combined[['MEASUREMENT_DATETIME']]['MEASUREMENT_DATETIME'].dt.to_period('M')).count().plot(kind='bar')\n",
    "fig=plt.gcf()\n",
    "fig.set_size_inches(18.5,10)"
   ]
  },
  {
   "cell_type": "markdown",
   "id": "f19dbd35",
   "metadata": {},
   "source": [
    "## Hospitalized and Non-hospitalized split "
   ]
  },
  {
   "cell_type": "code",
   "execution_count": 11,
   "id": "01e46832",
   "metadata": {},
   "outputs": [],
   "source": [
    "#these three concepts are our hospitalization concept IDs\n",
    "hospitalized_concepts=[262,9201,32037]"
   ]
  },
  {
   "cell_type": "code",
   "execution_count": 12,
   "id": "b80996d4",
   "metadata": {},
   "outputs": [],
   "source": [
    "#.isin will return a boolean, is the value in a list?\n",
    "covid_hospitalized=covid_combined[covid_combined['VISIT_CONCEPT_ID'].isin(hospitalized_concepts)]"
   ]
  },
  {
   "cell_type": "code",
   "execution_count": 13,
   "id": "69ba39ef",
   "metadata": {},
   "outputs": [],
   "source": [
    "# ~ will negate the boolean, is the value not in a list?\n",
    "covid_non_hospitalized=covid_combined[~covid_combined['VISIT_CONCEPT_ID'].isin(hospitalized_concepts)]"
   ]
  },
  {
   "cell_type": "code",
   "execution_count": 14,
   "id": "db14eb2b",
   "metadata": {},
   "outputs": [
    {
     "data": {
      "text/plain": [
       "12545"
      ]
     },
     "execution_count": 14,
     "metadata": {},
     "output_type": "execute_result"
    }
   ],
   "source": [
    "covid_hospitalized['PERSON_ID'].nunique()"
   ]
  },
  {
   "cell_type": "code",
   "execution_count": 15,
   "id": "304a849b",
   "metadata": {},
   "outputs": [
    {
     "data": {
      "text/plain": [
       "25605"
      ]
     },
     "execution_count": 15,
     "metadata": {},
     "output_type": "execute_result"
    }
   ],
   "source": [
    "covid_non_hospitalized['PERSON_ID'].nunique()"
   ]
  },
  {
   "cell_type": "markdown",
   "id": "a09f7e7d",
   "metadata": {},
   "source": [
    "# table 1"
   ]
  },
  {
   "cell_type": "markdown",
   "id": "3688d070",
   "metadata": {},
   "source": [
    "## Demographics"
   ]
  },
  {
   "cell_type": "code",
   "execution_count": 16,
   "id": "d95d4bf2",
   "metadata": {},
   "outputs": [],
   "source": [
    "#loading up data from another table\n",
    "covid_demographics=pd.read_csv('../updated data/new_covid_person.csv')\n",
    "covid_demographics['BIRTH_DATETIME']=pd.to_datetime(covid_demographics['BIRTH_DATETIME'])"
   ]
  },
  {
   "cell_type": "code",
   "execution_count": 17,
   "id": "7481a096",
   "metadata": {
    "scrolled": true
   },
   "outputs": [
    {
     "data": {
      "text/html": [
       "<div>\n",
       "<style scoped>\n",
       "    .dataframe tbody tr th:only-of-type {\n",
       "        vertical-align: middle;\n",
       "    }\n",
       "\n",
       "    .dataframe tbody tr th {\n",
       "        vertical-align: top;\n",
       "    }\n",
       "\n",
       "    .dataframe thead th {\n",
       "        text-align: right;\n",
       "    }\n",
       "</style>\n",
       "<table border=\"1\" class=\"dataframe\">\n",
       "  <thead>\n",
       "    <tr style=\"text-align: right;\">\n",
       "      <th></th>\n",
       "      <th>PERSON_ID</th>\n",
       "      <th>BIRTH_DATETIME</th>\n",
       "      <th>DEATH_DATETIME</th>\n",
       "      <th>GENDER_SOURCE_VALUE</th>\n",
       "      <th>RACE_SOURCE_VALUE</th>\n",
       "      <th>ETHNICITY_SOURCE_VALUE</th>\n",
       "    </tr>\n",
       "  </thead>\n",
       "  <tbody>\n",
       "    <tr>\n",
       "      <th>0</th>\n",
       "      <td>7703637957</td>\n",
       "      <td>1953-03-28</td>\n",
       "      <td>2020-04-28 00:43:00</td>\n",
       "      <td>Male</td>\n",
       "      <td>R5 White</td>\n",
       "      <td>E2 Not Spanish/Hispanic/Latino</td>\n",
       "    </tr>\n",
       "    <tr>\n",
       "      <th>1</th>\n",
       "      <td>7703644966</td>\n",
       "      <td>1971-12-23</td>\n",
       "      <td>NaN</td>\n",
       "      <td>Male</td>\n",
       "      <td>R9 Other</td>\n",
       "      <td>E2 Not Spanish/Hispanic/Latino</td>\n",
       "    </tr>\n",
       "    <tr>\n",
       "      <th>2</th>\n",
       "      <td>7703653281</td>\n",
       "      <td>1985-10-21</td>\n",
       "      <td>NaN</td>\n",
       "      <td>Male</td>\n",
       "      <td>R2 Asian</td>\n",
       "      <td>E2 Not Spanish/Hispanic/Latino</td>\n",
       "    </tr>\n",
       "    <tr>\n",
       "      <th>3</th>\n",
       "      <td>7703658658</td>\n",
       "      <td>1978-09-23</td>\n",
       "      <td>NaN</td>\n",
       "      <td>Female</td>\n",
       "      <td>R2 Asian</td>\n",
       "      <td>E2 Not Spanish/Hispanic/Latino</td>\n",
       "    </tr>\n",
       "    <tr>\n",
       "      <th>4</th>\n",
       "      <td>7703658698</td>\n",
       "      <td>1947-09-15</td>\n",
       "      <td>NaN</td>\n",
       "      <td>Male</td>\n",
       "      <td>R9 Other</td>\n",
       "      <td>E2 Not Spanish/Hispanic/Latino</td>\n",
       "    </tr>\n",
       "    <tr>\n",
       "      <th>...</th>\n",
       "      <td>...</td>\n",
       "      <td>...</td>\n",
       "      <td>...</td>\n",
       "      <td>...</td>\n",
       "      <td>...</td>\n",
       "      <td>...</td>\n",
       "    </tr>\n",
       "    <tr>\n",
       "      <th>38153</th>\n",
       "      <td>9005891395</td>\n",
       "      <td>2001-06-12</td>\n",
       "      <td>NaN</td>\n",
       "      <td>Male</td>\n",
       "      <td>R9 Other</td>\n",
       "      <td>E2 Not Spanish/Hispanic/Latino</td>\n",
       "    </tr>\n",
       "    <tr>\n",
       "      <th>38154</th>\n",
       "      <td>9005891424</td>\n",
       "      <td>1975-08-04</td>\n",
       "      <td>NaN</td>\n",
       "      <td>Male</td>\n",
       "      <td>R9 Other</td>\n",
       "      <td>E1 Spanish/Hispanic/Latino</td>\n",
       "    </tr>\n",
       "    <tr>\n",
       "      <th>38155</th>\n",
       "      <td>9005891495</td>\n",
       "      <td>2022-05-11</td>\n",
       "      <td>NaN</td>\n",
       "      <td>Female</td>\n",
       "      <td>R2 Asian</td>\n",
       "      <td>E2 Not Spanish/Hispanic/Latino</td>\n",
       "    </tr>\n",
       "    <tr>\n",
       "      <th>38156</th>\n",
       "      <td>9005891674</td>\n",
       "      <td>2017-03-22</td>\n",
       "      <td>NaN</td>\n",
       "      <td>Female</td>\n",
       "      <td>R9 Other</td>\n",
       "      <td>E1 Spanish/Hispanic/Latino</td>\n",
       "    </tr>\n",
       "    <tr>\n",
       "      <th>38157</th>\n",
       "      <td>9005892036</td>\n",
       "      <td>1995-07-26</td>\n",
       "      <td>NaN</td>\n",
       "      <td>Male</td>\n",
       "      <td>R3 Black or African-American</td>\n",
       "      <td>E2 Not Spanish/Hispanic/Latino</td>\n",
       "    </tr>\n",
       "  </tbody>\n",
       "</table>\n",
       "<p>38158 rows × 6 columns</p>\n",
       "</div>"
      ],
      "text/plain": [
       "        PERSON_ID BIRTH_DATETIME       DEATH_DATETIME GENDER_SOURCE_VALUE  \\\n",
       "0      7703637957     1953-03-28  2020-04-28 00:43:00                Male   \n",
       "1      7703644966     1971-12-23                  NaN                Male   \n",
       "2      7703653281     1985-10-21                  NaN                Male   \n",
       "3      7703658658     1978-09-23                  NaN              Female   \n",
       "4      7703658698     1947-09-15                  NaN                Male   \n",
       "...           ...            ...                  ...                 ...   \n",
       "38153  9005891395     2001-06-12                  NaN                Male   \n",
       "38154  9005891424     1975-08-04                  NaN                Male   \n",
       "38155  9005891495     2022-05-11                  NaN              Female   \n",
       "38156  9005891674     2017-03-22                  NaN              Female   \n",
       "38157  9005892036     1995-07-26                  NaN                Male   \n",
       "\n",
       "                  RACE_SOURCE_VALUE          ETHNICITY_SOURCE_VALUE  \n",
       "0                          R5 White  E2 Not Spanish/Hispanic/Latino  \n",
       "1                          R9 Other  E2 Not Spanish/Hispanic/Latino  \n",
       "2                          R2 Asian  E2 Not Spanish/Hispanic/Latino  \n",
       "3                          R2 Asian  E2 Not Spanish/Hispanic/Latino  \n",
       "4                          R9 Other  E2 Not Spanish/Hispanic/Latino  \n",
       "...                             ...                             ...  \n",
       "38153                      R9 Other  E2 Not Spanish/Hispanic/Latino  \n",
       "38154                      R9 Other      E1 Spanish/Hispanic/Latino  \n",
       "38155                      R2 Asian  E2 Not Spanish/Hispanic/Latino  \n",
       "38156                      R9 Other      E1 Spanish/Hispanic/Latino  \n",
       "38157  R3 Black or African-American  E2 Not Spanish/Hispanic/Latino  \n",
       "\n",
       "[38158 rows x 6 columns]"
      ]
     },
     "execution_count": 17,
     "metadata": {},
     "output_type": "execute_result"
    }
   ],
   "source": [
    "covid_demographics"
   ]
  },
  {
   "cell_type": "code",
   "execution_count": 18,
   "id": "caaa111b",
   "metadata": {},
   "outputs": [],
   "source": [
    "covid_hosp_demo=pd.merge(covid_hospitalized,covid_demographics,on=['PERSON_ID'])\n",
    "covid_non_hosp_demo=pd.merge(covid_non_hospitalized,covid_demographics,on=['PERSON_ID'])"
   ]
  },
  {
   "cell_type": "markdown",
   "id": "630ed0e9",
   "metadata": {},
   "source": [
    "## Average age"
   ]
  },
  {
   "cell_type": "code",
   "execution_count": 19,
   "id": "7ef6d891",
   "metadata": {},
   "outputs": [
    {
     "name": "stdout",
     "output_type": "stream",
     "text": [
      "61.45158273473542 20.29831634812566\n"
     ]
    }
   ],
   "source": [
    "#average age, we want base line characteristics so do it by date of covid\n",
    "hosp_ages=((covid_hosp_demo['MEASUREMENT_DATETIME']-covid_hosp_demo['BIRTH_DATETIME']).dt.days/365.25)\n",
    "print(hosp_ages.mean(),hosp_ages.std())"
   ]
  },
  {
   "cell_type": "code",
   "execution_count": 20,
   "id": "3be14f54",
   "metadata": {},
   "outputs": [
    {
     "name": "stdout",
     "output_type": "stream",
     "text": [
      "40.32326559678793 20.82574175932183\n"
     ]
    }
   ],
   "source": [
    "non_hosp_ages=((covid_non_hosp_demo['MEASUREMENT_DATETIME']-covid_non_hosp_demo['BIRTH_DATETIME']).dt.days/365.25)\n",
    "print(non_hosp_ages.mean(),non_hosp_ages.std())"
   ]
  },
  {
   "cell_type": "markdown",
   "id": "1b715876",
   "metadata": {},
   "source": [
    "## CKD"
   ]
  },
  {
   "cell_type": "code",
   "execution_count": 21,
   "id": "ecf5c627",
   "metadata": {},
   "outputs": [],
   "source": [
    "covid_conditions=pd.read_csv('../updated data/new_covid_conditions.csv')"
   ]
  },
  {
   "cell_type": "code",
   "execution_count": 22,
   "id": "8113e63f",
   "metadata": {},
   "outputs": [],
   "source": [
    "CKD_ID=[45582391, 45582392, 45553437, 45543858, 45582393, 45582394, 45553438, 46271022, 443597, 44782429, 443612, 443601, 45768812, 443611, 44784621, 46271022, 443614, 44782691, 44782728, 37017104, 43531653, 43531577, 45757446]"
   ]
  },
  {
   "cell_type": "code",
   "execution_count": 23,
   "id": "9daa05ee",
   "metadata": {},
   "outputs": [],
   "source": [
    "covid_CKD=covid_conditions[covid_conditions['CONDITION_CONCEPT_ID'].isin(CKD_ID)]\n",
    "\n",
    "covid_hosp_CKD=pd.merge(covid_hospitalized,covid_CKD,on=['PERSON_ID'])\n",
    "covid_non_hosp_CKD=pd.merge(covid_non_hospitalized,covid_CKD,on=['PERSON_ID'])"
   ]
  },
  {
   "cell_type": "code",
   "execution_count": 24,
   "id": "c387a259",
   "metadata": {},
   "outputs": [
    {
     "name": "stdout",
     "output_type": "stream",
     "text": [
      "2132 16.99\n"
     ]
    }
   ],
   "source": [
    "#by using a boolean expression inside [] you can filter the rows that you want\n",
    "cnt_hosp=covid_hosp_CKD[covid_hosp_CKD['CONDITION_START_DATETIME']<covid_hosp_CKD['MEASUREMENT_DATETIME']]['PERSON_ID'].nunique()\n",
    "print(cnt_hosp,round(cnt_hosp/covid_hospitalized['PERSON_ID'].nunique()*100,2))"
   ]
  },
  {
   "cell_type": "code",
   "execution_count": 25,
   "id": "16afd18a",
   "metadata": {},
   "outputs": [
    {
     "name": "stdout",
     "output_type": "stream",
     "text": [
      "911 3.56\n"
     ]
    }
   ],
   "source": [
    "cnt_non_hosp=covid_non_hosp_CKD[covid_non_hosp_CKD['CONDITION_START_DATETIME']<covid_non_hosp_CKD['MEASUREMENT_DATETIME']]['PERSON_ID'].nunique()\n",
    "print(cnt_non_hosp,round(cnt_non_hosp/covid_non_hospitalized['PERSON_ID'].nunique()*100,2))"
   ]
  },
  {
   "cell_type": "code",
   "execution_count": 26,
   "id": "02cd6576",
   "metadata": {},
   "outputs": [
    {
     "name": "stdout",
     "output_type": "stream",
     "text": [
      "3043 7.98\n"
     ]
    }
   ],
   "source": [
    "cnt_all=cnt_hosp+cnt_non_hosp\n",
    "print(cnt_all,round(cnt_all/covid_combined['PERSON_ID'].nunique()*100,2))"
   ]
  },
  {
   "cell_type": "markdown",
   "id": "162da814",
   "metadata": {},
   "source": [
    "## BMI"
   ]
  },
  {
   "cell_type": "code",
   "execution_count": 27,
   "id": "be7a94ab",
   "metadata": {},
   "outputs": [],
   "source": [
    "lab_vals_all=pd.read_csv('../updated data/new_covid_lab_vals.csv')\n",
    "lab_vals_all['MEASUREMENT_DATETIME']=pd.to_datetime(lab_vals_all['MEASUREMENT_DATETIME'])"
   ]
  },
  {
   "cell_type": "code",
   "execution_count": 28,
   "id": "5187ea68",
   "metadata": {},
   "outputs": [],
   "source": [
    "lab_vals_all=lab_vals_all[lab_vals_all['MEASUREMENT_CONCEPT_ID'].isin([3038553])]"
   ]
  },
  {
   "cell_type": "code",
   "execution_count": 29,
   "id": "5737c7b0",
   "metadata": {},
   "outputs": [
    {
     "data": {
      "text/plain": [
       "array(['kg/m2'], dtype=object)"
      ]
     },
     "execution_count": 29,
     "metadata": {},
     "output_type": "execute_result"
    }
   ],
   "source": [
    "lab_vals_all['UNIT_SOURCE_VALUE'].unique()"
   ]
  },
  {
   "cell_type": "code",
   "execution_count": 30,
   "id": "45b08f03",
   "metadata": {},
   "outputs": [],
   "source": [
    "covid_hosp_BMI=pd.merge(covid_hospitalized,lab_vals_all,on=['PERSON_ID'],how='inner').rename({'MEASUREMENT_DATETIME_x': 'MEASUREMENT_DATETIME_COVID','MEASUREMENT_DATETIME_y': 'MEASUREMENT_DATETIME_BMI'},axis='columns')\n",
    "covid_non_hosp_BMI=pd.merge(covid_non_hospitalized,lab_vals_all,on=['PERSON_ID'],how='inner').rename({'MEASUREMENT_DATETIME_x': 'MEASUREMENT_DATETIME_COVID','MEASUREMENT_DATETIME_y': 'MEASUREMENT_DATETIME_BMI'},axis='columns')"
   ]
  },
  {
   "cell_type": "code",
   "execution_count": 31,
   "id": "05bdba69",
   "metadata": {
    "scrolled": true
   },
   "outputs": [
    {
     "data": {
      "text/html": [
       "<div>\n",
       "<style scoped>\n",
       "    .dataframe tbody tr th:only-of-type {\n",
       "        vertical-align: middle;\n",
       "    }\n",
       "\n",
       "    .dataframe tbody tr th {\n",
       "        vertical-align: top;\n",
       "    }\n",
       "\n",
       "    .dataframe thead th {\n",
       "        text-align: right;\n",
       "    }\n",
       "</style>\n",
       "<table border=\"1\" class=\"dataframe\">\n",
       "  <thead>\n",
       "    <tr style=\"text-align: right;\">\n",
       "      <th></th>\n",
       "      <th>PERSON_ID</th>\n",
       "      <th>VISIT_OCCURRENCE_ID</th>\n",
       "      <th>MEASUREMENT_DATETIME_COVID</th>\n",
       "      <th>VISIT_CONCEPT_ID</th>\n",
       "      <th>VISIT_START_DATETIME</th>\n",
       "      <th>VISIT_END_DATETIME</th>\n",
       "      <th>MEASUREMENT_DATETIME_BMI</th>\n",
       "      <th>MEASUREMENT_CONCEPT_ID</th>\n",
       "      <th>VALUE_AS_NUMBER</th>\n",
       "      <th>UNIT_SOURCE_VALUE</th>\n",
       "    </tr>\n",
       "  </thead>\n",
       "  <tbody>\n",
       "    <tr>\n",
       "      <th>0</th>\n",
       "      <td>9001868725</td>\n",
       "      <td>185027105870</td>\n",
       "      <td>2022-06-27 19:00:00</td>\n",
       "      <td>262</td>\n",
       "      <td>2022-06-27 18:47:00</td>\n",
       "      <td>NaT</td>\n",
       "      <td>2016-07-13 19:03:00</td>\n",
       "      <td>3038553</td>\n",
       "      <td>31.5</td>\n",
       "      <td>kg/m2</td>\n",
       "    </tr>\n",
       "    <tr>\n",
       "      <th>1</th>\n",
       "      <td>9001868725</td>\n",
       "      <td>185027105870</td>\n",
       "      <td>2022-06-27 19:00:00</td>\n",
       "      <td>262</td>\n",
       "      <td>2022-06-27 18:47:00</td>\n",
       "      <td>NaT</td>\n",
       "      <td>2016-10-19 12:57:00</td>\n",
       "      <td>3038553</td>\n",
       "      <td>31.6</td>\n",
       "      <td>kg/m2</td>\n",
       "    </tr>\n",
       "    <tr>\n",
       "      <th>2</th>\n",
       "      <td>9001868725</td>\n",
       "      <td>185027105870</td>\n",
       "      <td>2022-06-27 19:00:00</td>\n",
       "      <td>262</td>\n",
       "      <td>2022-06-27 18:47:00</td>\n",
       "      <td>NaT</td>\n",
       "      <td>2016-12-27 15:04:00</td>\n",
       "      <td>3038553</td>\n",
       "      <td>32.0</td>\n",
       "      <td>kg/m2</td>\n",
       "    </tr>\n",
       "    <tr>\n",
       "      <th>3</th>\n",
       "      <td>9001868725</td>\n",
       "      <td>185027105870</td>\n",
       "      <td>2022-06-27 19:00:00</td>\n",
       "      <td>262</td>\n",
       "      <td>2022-06-27 18:47:00</td>\n",
       "      <td>NaT</td>\n",
       "      <td>2017-12-13 13:25:00</td>\n",
       "      <td>3038553</td>\n",
       "      <td>32.7</td>\n",
       "      <td>kg/m2</td>\n",
       "    </tr>\n",
       "    <tr>\n",
       "      <th>4</th>\n",
       "      <td>9001868725</td>\n",
       "      <td>185027105870</td>\n",
       "      <td>2022-06-27 19:00:00</td>\n",
       "      <td>262</td>\n",
       "      <td>2022-06-27 18:47:00</td>\n",
       "      <td>NaT</td>\n",
       "      <td>2017-12-29 11:48:00</td>\n",
       "      <td>3038553</td>\n",
       "      <td>32.1</td>\n",
       "      <td>kg/m2</td>\n",
       "    </tr>\n",
       "    <tr>\n",
       "      <th>...</th>\n",
       "      <td>...</td>\n",
       "      <td>...</td>\n",
       "      <td>...</td>\n",
       "      <td>...</td>\n",
       "      <td>...</td>\n",
       "      <td>...</td>\n",
       "      <td>...</td>\n",
       "      <td>...</td>\n",
       "      <td>...</td>\n",
       "      <td>...</td>\n",
       "    </tr>\n",
       "    <tr>\n",
       "      <th>172866</th>\n",
       "      <td>9000077379</td>\n",
       "      <td>100424663743</td>\n",
       "      <td>2020-03-13 11:35:00</td>\n",
       "      <td>262</td>\n",
       "      <td>2020-03-13 08:19:00</td>\n",
       "      <td>2020-03-14 06:00:00</td>\n",
       "      <td>2020-06-05 14:15:00</td>\n",
       "      <td>3038553</td>\n",
       "      <td>33.7</td>\n",
       "      <td>kg/m2</td>\n",
       "    </tr>\n",
       "    <tr>\n",
       "      <th>172867</th>\n",
       "      <td>9000077379</td>\n",
       "      <td>100424663743</td>\n",
       "      <td>2020-03-13 11:35:00</td>\n",
       "      <td>262</td>\n",
       "      <td>2020-03-13 08:19:00</td>\n",
       "      <td>2020-03-14 06:00:00</td>\n",
       "      <td>2020-12-10 13:59:00</td>\n",
       "      <td>3038553</td>\n",
       "      <td>33.9</td>\n",
       "      <td>kg/m2</td>\n",
       "    </tr>\n",
       "    <tr>\n",
       "      <th>172868</th>\n",
       "      <td>9000077379</td>\n",
       "      <td>100424663743</td>\n",
       "      <td>2020-03-13 11:35:00</td>\n",
       "      <td>262</td>\n",
       "      <td>2020-03-13 08:19:00</td>\n",
       "      <td>2020-03-14 06:00:00</td>\n",
       "      <td>2020-12-11 10:35:00</td>\n",
       "      <td>3038553</td>\n",
       "      <td>34.2</td>\n",
       "      <td>kg/m2</td>\n",
       "    </tr>\n",
       "    <tr>\n",
       "      <th>172869</th>\n",
       "      <td>9000077379</td>\n",
       "      <td>100424663743</td>\n",
       "      <td>2020-03-13 11:35:00</td>\n",
       "      <td>262</td>\n",
       "      <td>2020-03-13 08:19:00</td>\n",
       "      <td>2020-03-14 06:00:00</td>\n",
       "      <td>2022-01-19 08:29:00</td>\n",
       "      <td>3038553</td>\n",
       "      <td>31.0</td>\n",
       "      <td>kg/m2</td>\n",
       "    </tr>\n",
       "    <tr>\n",
       "      <th>172870</th>\n",
       "      <td>9000077379</td>\n",
       "      <td>100424663743</td>\n",
       "      <td>2020-03-13 11:35:00</td>\n",
       "      <td>262</td>\n",
       "      <td>2020-03-13 08:19:00</td>\n",
       "      <td>2020-03-14 06:00:00</td>\n",
       "      <td>2022-05-24 10:14:00</td>\n",
       "      <td>3038553</td>\n",
       "      <td>36.2</td>\n",
       "      <td>kg/m2</td>\n",
       "    </tr>\n",
       "  </tbody>\n",
       "</table>\n",
       "<p>172871 rows × 10 columns</p>\n",
       "</div>"
      ],
      "text/plain": [
       "         PERSON_ID  VISIT_OCCURRENCE_ID MEASUREMENT_DATETIME_COVID  \\\n",
       "0       9001868725         185027105870        2022-06-27 19:00:00   \n",
       "1       9001868725         185027105870        2022-06-27 19:00:00   \n",
       "2       9001868725         185027105870        2022-06-27 19:00:00   \n",
       "3       9001868725         185027105870        2022-06-27 19:00:00   \n",
       "4       9001868725         185027105870        2022-06-27 19:00:00   \n",
       "...            ...                  ...                        ...   \n",
       "172866  9000077379         100424663743        2020-03-13 11:35:00   \n",
       "172867  9000077379         100424663743        2020-03-13 11:35:00   \n",
       "172868  9000077379         100424663743        2020-03-13 11:35:00   \n",
       "172869  9000077379         100424663743        2020-03-13 11:35:00   \n",
       "172870  9000077379         100424663743        2020-03-13 11:35:00   \n",
       "\n",
       "        VISIT_CONCEPT_ID VISIT_START_DATETIME  VISIT_END_DATETIME  \\\n",
       "0                    262  2022-06-27 18:47:00                 NaT   \n",
       "1                    262  2022-06-27 18:47:00                 NaT   \n",
       "2                    262  2022-06-27 18:47:00                 NaT   \n",
       "3                    262  2022-06-27 18:47:00                 NaT   \n",
       "4                    262  2022-06-27 18:47:00                 NaT   \n",
       "...                  ...                  ...                 ...   \n",
       "172866               262  2020-03-13 08:19:00 2020-03-14 06:00:00   \n",
       "172867               262  2020-03-13 08:19:00 2020-03-14 06:00:00   \n",
       "172868               262  2020-03-13 08:19:00 2020-03-14 06:00:00   \n",
       "172869               262  2020-03-13 08:19:00 2020-03-14 06:00:00   \n",
       "172870               262  2020-03-13 08:19:00 2020-03-14 06:00:00   \n",
       "\n",
       "       MEASUREMENT_DATETIME_BMI  MEASUREMENT_CONCEPT_ID  VALUE_AS_NUMBER  \\\n",
       "0           2016-07-13 19:03:00                 3038553             31.5   \n",
       "1           2016-10-19 12:57:00                 3038553             31.6   \n",
       "2           2016-12-27 15:04:00                 3038553             32.0   \n",
       "3           2017-12-13 13:25:00                 3038553             32.7   \n",
       "4           2017-12-29 11:48:00                 3038553             32.1   \n",
       "...                         ...                     ...              ...   \n",
       "172866      2020-06-05 14:15:00                 3038553             33.7   \n",
       "172867      2020-12-10 13:59:00                 3038553             33.9   \n",
       "172868      2020-12-11 10:35:00                 3038553             34.2   \n",
       "172869      2022-01-19 08:29:00                 3038553             31.0   \n",
       "172870      2022-05-24 10:14:00                 3038553             36.2   \n",
       "\n",
       "       UNIT_SOURCE_VALUE  \n",
       "0                  kg/m2  \n",
       "1                  kg/m2  \n",
       "2                  kg/m2  \n",
       "3                  kg/m2  \n",
       "4                  kg/m2  \n",
       "...                  ...  \n",
       "172866             kg/m2  \n",
       "172867             kg/m2  \n",
       "172868             kg/m2  \n",
       "172869             kg/m2  \n",
       "172870             kg/m2  \n",
       "\n",
       "[172871 rows x 10 columns]"
      ]
     },
     "execution_count": 31,
     "metadata": {},
     "output_type": "execute_result"
    }
   ],
   "source": [
    "covid_hosp_BMI"
   ]
  },
  {
   "cell_type": "code",
   "execution_count": 32,
   "id": "be2a7f83",
   "metadata": {},
   "outputs": [],
   "source": [
    "covid_hosp_BMI=covid_hosp_BMI[(covid_hosp_BMI['MEASUREMENT_DATETIME_BMI']>=covid_hosp_BMI['VISIT_START_DATETIME'])&(covid_hosp_BMI['MEASUREMENT_DATETIME_BMI']<=covid_hosp_BMI['VISIT_START_DATETIME']+pd.DateOffset(days=1))]"
   ]
  },
  {
   "cell_type": "code",
   "execution_count": 33,
   "id": "f706f361",
   "metadata": {},
   "outputs": [],
   "source": [
    "covid_hosp_BMI=covid_hosp_BMI.sort_values(['MEASUREMENT_DATETIME_BMI']).drop_duplicates(['PERSON_ID'],keep='first')\n",
    "covid_non_hosp_BMI=covid_non_hosp_BMI.sort_values(['MEASUREMENT_DATETIME_BMI']).drop_duplicates(['PERSON_ID'],keep='first')"
   ]
  },
  {
   "cell_type": "code",
   "execution_count": 34,
   "id": "2a068b44",
   "metadata": {},
   "outputs": [],
   "source": [
    "def drop_outlier(vals):\n",
    "    std=np.std(vals)\n",
    "    mean=np.mean(vals)\n",
    "    return [v for v in vals if v>=mean-2*std and v <=mean+2*std]"
   ]
  },
  {
   "cell_type": "code",
   "execution_count": 35,
   "id": "4c6b6328",
   "metadata": {},
   "outputs": [
    {
     "name": "stdout",
     "output_type": "stream",
     "text": [
      "29.435490605427972 8.684493907090653\n"
     ]
    }
   ],
   "source": [
    "hosp_bmi=drop_outlier(list(covid_hosp_BMI['VALUE_AS_NUMBER'].dropna()))\n",
    "print(np.mean(hosp_bmi),np.std(hosp_bmi))"
   ]
  },
  {
   "cell_type": "code",
   "execution_count": 36,
   "id": "ac503d68",
   "metadata": {},
   "outputs": [
    {
     "name": "stdout",
     "output_type": "stream",
     "text": [
      "27.746085782843434 8.364269542216157\n"
     ]
    }
   ],
   "source": [
    "non_hosp_bmi=drop_outlier(list(covid_non_hosp_BMI['VALUE_AS_NUMBER'].dropna()))\n",
    "print(np.mean(non_hosp_bmi),np.std(non_hosp_bmi))"
   ]
  },
  {
   "cell_type": "markdown",
   "id": "db2bc5bd",
   "metadata": {},
   "source": [
    "# Stats"
   ]
  },
  {
   "cell_type": "code",
   "execution_count": 37,
   "id": "7c9c52a8",
   "metadata": {},
   "outputs": [
    {
     "data": {
      "text/plain": [
       "0.0"
      ]
     },
     "execution_count": 37,
     "metadata": {},
     "output_type": "execute_result"
    }
   ],
   "source": [
    "mannwhitneyu(hosp_ages,non_hosp_ages)[1]"
   ]
  },
  {
   "cell_type": "code",
   "execution_count": 38,
   "id": "37e12996",
   "metadata": {},
   "outputs": [
    {
     "data": {
      "text/plain": [
       "0.0"
      ]
     },
     "execution_count": 38,
     "metadata": {},
     "output_type": "execute_result"
    }
   ],
   "source": [
    "fisher_exact([\n",
    "    [cnt_hosp,cnt_non_hosp],\n",
    "    [len(covid_hospitalized.index)-cnt_hosp,len(covid_non_hospitalized.index)-cnt_non_hosp],\n",
    "])[1]"
   ]
  },
  {
   "cell_type": "code",
   "execution_count": 39,
   "id": "209476cb",
   "metadata": {},
   "outputs": [
    {
     "data": {
      "text/plain": [
       "5.710389569718311e-37"
      ]
     },
     "execution_count": 39,
     "metadata": {},
     "output_type": "execute_result"
    }
   ],
   "source": [
    "mannwhitneyu(hosp_bmi,non_hosp_bmi)[1]"
   ]
  }
 ],
 "metadata": {
  "kernelspec": {
   "display_name": "Python 3",
   "language": "python",
   "name": "python3"
  },
  "language_info": {
   "codemirror_mode": {
    "name": "ipython",
    "version": 3
   },
   "file_extension": ".py",
   "mimetype": "text/x-python",
   "name": "python",
   "nbconvert_exporter": "python",
   "pygments_lexer": "ipython3",
   "version": "3.8.8"
  }
 },
 "nbformat": 4,
 "nbformat_minor": 5
}
